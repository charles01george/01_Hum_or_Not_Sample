{
  "nbformat": 4,
  "nbformat_minor": 0,
  "metadata": {
    "colab": {
      "provenance": [],
      "mount_file_id": "1k0D9rq31gHpxV34ktlYanl2A3subfcTa",
      "authorship_tag": "ABX9TyPUxiI8RiDieEG0GF9pvj26",
      "include_colab_link": true
    },
    "kernelspec": {
      "name": "python3",
      "display_name": "Python 3"
    },
    "language_info": {
      "name": "python"
    },
    "gpuClass": "standard",
    "accelerator": "GPU"
  },
  "cells": [
    {
      "cell_type": "markdown",
      "metadata": {
        "id": "view-in-github",
        "colab_type": "text"
      },
      "source": [
        "<a href=\"https://colab.research.google.com/github/charles01george/01_Humans_or_Not/blob/main/01_Humans_or_Not.ipynb\" target=\"_parent\"><img src=\"https://colab.research.google.com/assets/colab-badge.svg\" alt=\"Open In Colab\"/></a>"
      ]
    },
    {
      "cell_type": "markdown",
      "source": [
        "# Humans or not Humans"
      ],
      "metadata": {
        "id": "juAIe5_IPEGj"
      }
    },
    {
      "cell_type": "markdown",
      "source": [
        "This project is for differentiate humans and not-humans from a set of different photos which were taken from mainly phones. The data contains some beautiful pictures (taken by myself 😀) of my family members and friends."
      ],
      "metadata": {
        "id": "ZigXjes7GaDR"
      }
    },
    {
      "cell_type": "markdown",
      "source": [
        "## Get the data"
      ],
      "metadata": {
        "id": "LUb4Fj-OF6iV"
      }
    },
    {
      "cell_type": "code",
      "source": [
        "import os\n",
        "import tensorflow as tf"
      ],
      "metadata": {
        "id": "MgP-8AEeF_uq"
      },
      "execution_count": 21,
      "outputs": []
    },
    {
      "cell_type": "code",
      "source": [
        "data = \"/content/drive/MyDrive/01_Humans_or_Not\""
      ],
      "metadata": {
        "id": "abBcD1MGux2j"
      },
      "execution_count": 22,
      "outputs": []
    },
    {
      "cell_type": "code",
      "source": [
        "os.listdir(data)"
      ],
      "metadata": {
        "colab": {
          "base_uri": "https://localhost:8080/"
        },
        "id": "IperWtkYDFVQ",
        "outputId": "bc825b26-ee9d-4d6e-fe37-e6c2d743ca57"
      },
      "execution_count": 23,
      "outputs": [
        {
          "output_type": "execute_result",
          "data": {
            "text/plain": [
              "['Test', 'Train']"
            ]
          },
          "metadata": {},
          "execution_count": 23
        }
      ]
    },
    {
      "cell_type": "code",
      "source": [
        "os.listdir(os.path.join(data, \"Train\"))"
      ],
      "metadata": {
        "colab": {
          "base_uri": "https://localhost:8080/"
        },
        "id": "ia-rm-wRwJs9",
        "outputId": "c73ae8c7-f224-48fc-b12b-6186e24bdbba"
      },
      "execution_count": 24,
      "outputs": [
        {
          "output_type": "execute_result",
          "data": {
            "text/plain": [
              "['humans', 'not_humans']"
            ]
          },
          "metadata": {},
          "execution_count": 24
        }
      ]
    },
    {
      "cell_type": "markdown",
      "source": [
        "### Inspect the data"
      ],
      "metadata": {
        "id": "eNM5-Dbz9cXV"
      }
    },
    {
      "cell_type": "code",
      "source": [
        "os.listdir(os.path.join(data, \"Train\", \"humans\"))[:5]"
      ],
      "metadata": {
        "id": "2e9AGMG2xDn0",
        "colab": {
          "base_uri": "https://localhost:8080/"
        },
        "outputId": "8ae07b92-0fa3-4e3f-b548-dff7e7484b2f"
      },
      "execution_count": 25,
      "outputs": [
        {
          "output_type": "execute_result",
          "data": {
            "text/plain": [
              "['0B699446-ECAE-4A34-96E6-51DE3ECDA3EC Small.jpeg',\n",
              " '0A40694B-BB3D-4D5C-8BC6-9B0DBD90C58C Small.jpeg',\n",
              " '0A8F2502-6427-4730-9960-4BC7EB3B1D90 Small.jpeg',\n",
              " '0a754ad1-4640-4de5-8bbd-5f81dbbf904a Small.jpeg',\n",
              " '1D50442A-0CC3-41D0-9B97-388A14E81374 Small.jpeg']"
            ]
          },
          "metadata": {},
          "execution_count": 25
        }
      ]
    },
    {
      "cell_type": "code",
      "source": [
        "os.listdir(os.path.join(data, \"Train\", \"not_humans\"))[:5]"
      ],
      "metadata": {
        "colab": {
          "base_uri": "https://localhost:8080/"
        },
        "id": "wumEO0Gt4cin",
        "outputId": "0df8394a-5830-4565-d8a3-f4191da280ac"
      },
      "execution_count": 26,
      "outputs": [
        {
          "output_type": "execute_result",
          "data": {
            "text/plain": [
              "['3CC26C46-9F19-425A-B386-56B742745A66 Small.jpeg',\n",
              " '1C247B1C-254C-4BE7-BB6F-843A2C39DB7C Small.jpeg',\n",
              " '3C72CC29-04D9-4E9D-87C7-4F873E8CE0A6 Small.jpeg',\n",
              " '3D0529AD-D8A9-496B-836B-94B52BD89E85 Small.jpeg',\n",
              " '0A97A324-04BD-4368-8F97-F1679CDD425E Small.jpeg']"
            ]
          },
          "metadata": {},
          "execution_count": 26
        }
      ]
    },
    {
      "cell_type": "code",
      "source": [
        "len(os.listdir(\"drive/MyDrive/01_Humans_or_Not/Train/humans\"))"
      ],
      "metadata": {
        "colab": {
          "base_uri": "https://localhost:8080/"
        },
        "id": "oBr75amC4_w0",
        "outputId": "87ec9d16-726e-4ceb-860e-cd74feb49f10"
      },
      "execution_count": 27,
      "outputs": [
        {
          "output_type": "execute_result",
          "data": {
            "text/plain": [
              "507"
            ]
          },
          "metadata": {},
          "execution_count": 27
        }
      ]
    },
    {
      "cell_type": "code",
      "source": [
        "# How many images are in our dataset\n",
        "data = tf.keras.utils.image_dataset_from_directory(\"drive/MyDrive/01_Humans_or_Not\")"
      ],
      "metadata": {
        "colab": {
          "base_uri": "https://localhost:8080/"
        },
        "id": "OdV7ifo36NAr",
        "outputId": "cae18030-5e02-4b88-f68b-772908aed4d6"
      },
      "execution_count": 28,
      "outputs": [
        {
          "output_type": "stream",
          "name": "stdout",
          "text": [
            "Found 1090 files belonging to 2 classes.\n"
          ]
        }
      ]
    },
    {
      "cell_type": "code",
      "source": [
        "# Number of training images\n",
        "tf.keras.utils.image_dataset_from_directory(\"drive/MyDrive/01_Humans_or_Not/Train/\")"
      ],
      "metadata": {
        "colab": {
          "base_uri": "https://localhost:8080/"
        },
        "id": "dnF7928U7HXX",
        "outputId": "cb91ccae-369c-4adb-a10c-41dce2aa5459"
      },
      "execution_count": 29,
      "outputs": [
        {
          "output_type": "stream",
          "name": "stdout",
          "text": [
            "Found 1018 files belonging to 2 classes.\n"
          ]
        },
        {
          "output_type": "execute_result",
          "data": {
            "text/plain": [
              "<BatchDataset element_spec=(TensorSpec(shape=(None, 256, 256, 3), dtype=tf.float32, name=None), TensorSpec(shape=(None,), dtype=tf.int32, name=None))>"
            ]
          },
          "metadata": {},
          "execution_count": 29
        }
      ]
    },
    {
      "cell_type": "code",
      "source": [
        "# How many human images in our training set\n",
        "num_human_images_train = len(os.listdir(\"drive/MyDrive/01_Humans_or_Not/Train/humans\"))\n",
        "num_human_images_train"
      ],
      "metadata": {
        "colab": {
          "base_uri": "https://localhost:8080/"
        },
        "id": "uqLTsIIc7zHJ",
        "outputId": "3977673c-fe1e-4721-811e-04f75783c5b1"
      },
      "execution_count": 30,
      "outputs": [
        {
          "output_type": "execute_result",
          "data": {
            "text/plain": [
              "507"
            ]
          },
          "metadata": {},
          "execution_count": 30
        }
      ]
    },
    {
      "cell_type": "code",
      "source": [
        "# How many not-human images in our training set\n",
        "num_not_human_images_train = len(os.listdir(\"drive/MyDrive/01_Humans_or_Not/Train/not_humans\"))\n",
        "num_not_human_images_train"
      ],
      "metadata": {
        "colab": {
          "base_uri": "https://localhost:8080/"
        },
        "id": "WSMfrPQa8V5s",
        "outputId": "92a7aff2-14a8-416b-847d-6888ed3e8dbe"
      },
      "execution_count": 31,
      "outputs": [
        {
          "output_type": "execute_result",
          "data": {
            "text/plain": [
              "511"
            ]
          },
          "metadata": {},
          "execution_count": 31
        }
      ]
    },
    {
      "cell_type": "code",
      "source": [
        "data = \"/content/drive/MyDrive/01_Humans_or_Not/Train\"\n",
        "data"
      ],
      "metadata": {
        "colab": {
          "base_uri": "https://localhost:8080/",
          "height": 35
        },
        "id": "OAF8aYL59BoT",
        "outputId": "dfb55afa-b1e3-4f9d-c96d-c01576d81b3c"
      },
      "execution_count": 32,
      "outputs": [
        {
          "output_type": "execute_result",
          "data": {
            "text/plain": [
              "'/content/drive/MyDrive/01_Humans_or_Not/Train'"
            ],
            "application/vnd.google.colaboratory.intrinsic+json": {
              "type": "string"
            }
          },
          "metadata": {},
          "execution_count": 32
        }
      ]
    },
    {
      "cell_type": "code",
      "source": [
        "# View a random image\n",
        "import matplotlib.pyplot as plt\n",
        "import matplotlib.image as mpimg\n",
        "import random\n",
        "\n",
        "def view_random_image(target_dir, target_class):\n",
        "  # Setup target directory (we'll view images from here)\n",
        "  target_folder = target_dir+target_class\n",
        "\n",
        "  # Get a random image path\n",
        "  random_image = random.sample(os.listdir(target_folder), 1)\n",
        "  # Read in the image and plot it using matplotlib\n",
        "  img = mpimg.imread(target_folder + \"/\" + random_image[0])\n",
        "  plt.imshow(img)\n",
        "  plt.title(target_class)\n",
        "  plt.axis(\"off\");\n",
        "\n",
        "  print(f\"Image shape: {img.shape}\") # show the shape\n",
        "\n",
        "  return img"
      ],
      "metadata": {
        "id": "nP_-aJiG86i2"
      },
      "execution_count": 33,
      "outputs": []
    },
    {
      "cell_type": "code",
      "source": [
        "img = view_random_image(target_dir=\"drive/MyDrive/01_Humans_or_Not/Train/\",\n",
        "                  target_class=\"humans\")"
      ],
      "metadata": {
        "colab": {
          "base_uri": "https://localhost:8080/",
          "height": 281
        },
        "id": "m7CP0WY29DHO",
        "outputId": "3bbed91b-28ce-49d8-9d44-2804a07583fb"
      },
      "execution_count": 34,
      "outputs": [
        {
          "output_type": "stream",
          "name": "stdout",
          "text": [
            "Image shape: (320, 180, 3)\n"
          ]
        },
        {
          "output_type": "display_data",
          "data": {
            "text/plain": [
              "<Figure size 432x288 with 1 Axes>"
            ],
            "image/png": "[encoded data removed]"
          },
          "metadata": {
            "needs_background": "light"
          }
        }
      ]
    },
    {
      "cell_type": "code",
      "source": [
        "# View the image (array/tensor)\n",
        "img"
      ],
      "metadata": {
        "id": "1U6P_ugR9_Zn",
        "colab": {
          "base_uri": "https://localhost:8080/"
        },
        "outputId": "6c7273dd-fbbc-4999-f39d-3386ee62a4e6"
      },
      "execution_count": 35,
      "outputs": [
        {
          "output_type": "execute_result",
          "data": {
            "text/plain": [
              "array([[[186, 158, 119],\n",
              "        [185, 157, 118],\n",
              "        [184, 156, 117],\n",
              "        ...,\n",
              "        [125, 109,  83],\n",
              "        [125, 109,  83],\n",
              "        [125, 109,  83]],\n",
              "\n",
              "       [[185, 157, 118],\n",
              "        [184, 156, 117],\n",
              "        [183, 155, 115],\n",
              "        ...,\n",
              "        [126, 110,  84],\n",
              "        [126, 110,  84],\n",
              "        [125, 109,  83]],\n",
              "\n",
              "       [[184, 156, 116],\n",
              "        [183, 155, 115],\n",
              "        [183, 155, 115],\n",
              "        ...,\n",
              "        [128, 112,  86],\n",
              "        [127, 111,  85],\n",
              "        [127, 111,  85]],\n",
              "\n",
              "       ...,\n",
              "\n",
              "       [[181, 156, 134],\n",
              "        [185, 163, 140],\n",
              "        [185, 163, 140],\n",
              "        ...,\n",
              "        [ 66, 174, 202],\n",
              "        [ 65, 173, 201],\n",
              "        [ 64, 172, 201]],\n",
              "\n",
              "       [[187, 162, 140],\n",
              "        [188, 163, 141],\n",
              "        [189, 167, 144],\n",
              "        ...,\n",
              "        [ 63, 177, 204],\n",
              "        [ 62, 176, 203],\n",
              "        [ 61, 175, 202]],\n",
              "\n",
              "       [[188, 163, 141],\n",
              "        [190, 165, 143],\n",
              "        [185, 163, 140],\n",
              "        ...,\n",
              "        [ 63, 178, 205],\n",
              "        [ 62, 177, 204],\n",
              "        [ 61, 176, 203]]], dtype=uint8)"
            ]
          },
          "metadata": {},
          "execution_count": 35
        }
      ]
    },
    {
      "cell_type": "code",
      "source": [
        "# Image shape\n",
        "img.shape "
      ],
      "metadata": {
        "colab": {
          "base_uri": "https://localhost:8080/"
        },
        "id": "xSC-TgIkVzoA",
        "outputId": "c5f07612-7265-418b-92ad-f0597112db19"
      },
      "execution_count": 36,
      "outputs": [
        {
          "output_type": "execute_result",
          "data": {
            "text/plain": [
              "(320, 180, 3)"
            ]
          },
          "metadata": {},
          "execution_count": 36
        }
      ]
    },
    {
      "cell_type": "markdown",
      "source": [
        "The values in the `img` array are between 0 and 255, however neural networks prefer the values between 0 and 1. One of the most common preprocessign steps for working with images is to `Scale` (normalize) their pixel values by dividing the image arrays by 255"
      ],
      "metadata": {
        "id": "kDrM40mdWNQa"
      }
    },
    {
      "cell_type": "code",
      "source": [
        "# Get all the pixel values between 0 & 1\n",
        "img/255.0"
      ],
      "metadata": {
        "colab": {
          "base_uri": "https://localhost:8080/"
        },
        "id": "UaSo3dRCaEs_",
        "outputId": "8358bbed-0635-46fd-8f52-e8bc50c83a90"
      },
      "execution_count": 37,
      "outputs": [
        {
          "output_type": "execute_result",
          "data": {
            "text/plain": [
              "array([[[0.72941176, 0.61960784, 0.46666667],\n",
              "        [0.7254902 , 0.61568627, 0.4627451 ],\n",
              "        [0.72156863, 0.61176471, 0.45882353],\n",
              "        ...,\n",
              "        [0.49019608, 0.42745098, 0.3254902 ],\n",
              "        [0.49019608, 0.42745098, 0.3254902 ],\n",
              "        [0.49019608, 0.42745098, 0.3254902 ]],\n",
              "\n",
              "       [[0.7254902 , 0.61568627, 0.4627451 ],\n",
              "        [0.72156863, 0.61176471, 0.45882353],\n",
              "        [0.71764706, 0.60784314, 0.45098039],\n",
              "        ...,\n",
              "        [0.49411765, 0.43137255, 0.32941176],\n",
              "        [0.49411765, 0.43137255, 0.32941176],\n",
              "        [0.49019608, 0.42745098, 0.3254902 ]],\n",
              "\n",
              "       [[0.72156863, 0.61176471, 0.45490196],\n",
              "        [0.71764706, 0.60784314, 0.45098039],\n",
              "        [0.71764706, 0.60784314, 0.45098039],\n",
              "        ...,\n",
              "        [0.50196078, 0.43921569, 0.3372549 ],\n",
              "        [0.49803922, 0.43529412, 0.33333333],\n",
              "        [0.49803922, 0.43529412, 0.33333333]],\n",
              "\n",
              "       ...,\n",
              "\n",
              "       [[0.70980392, 0.61176471, 0.5254902 ],\n",
              "        [0.7254902 , 0.63921569, 0.54901961],\n",
              "        [0.7254902 , 0.63921569, 0.54901961],\n",
              "        ...,\n",
              "        [0.25882353, 0.68235294, 0.79215686],\n",
              "        [0.25490196, 0.67843137, 0.78823529],\n",
              "        [0.25098039, 0.6745098 , 0.78823529]],\n",
              "\n",
              "       [[0.73333333, 0.63529412, 0.54901961],\n",
              "        [0.7372549 , 0.63921569, 0.55294118],\n",
              "        [0.74117647, 0.65490196, 0.56470588],\n",
              "        ...,\n",
              "        [0.24705882, 0.69411765, 0.8       ],\n",
              "        [0.24313725, 0.69019608, 0.79607843],\n",
              "        [0.23921569, 0.68627451, 0.79215686]],\n",
              "\n",
              "       [[0.7372549 , 0.63921569, 0.55294118],\n",
              "        [0.74509804, 0.64705882, 0.56078431],\n",
              "        [0.7254902 , 0.63921569, 0.54901961],\n",
              "        ...,\n",
              "        [0.24705882, 0.69803922, 0.80392157],\n",
              "        [0.24313725, 0.69411765, 0.8       ],\n",
              "        [0.23921569, 0.69019608, 0.79607843]]])"
            ]
          },
          "metadata": {},
          "execution_count": 37
        }
      ]
    },
    {
      "cell_type": "markdown",
      "source": [
        "## End-to-end example\n",
        "\n",
        "Replicating a model from CNN explainer webpage https://poloclub.github.io/cnn-explainer/"
      ],
      "metadata": {
        "id": "jabMAq_kaSgp"
      }
    },
    {
      "cell_type": "code",
      "source": [
        "from tensorflow.keras.preprocessing.image import ImageDataGenerator\n",
        "\n",
        "# Set the seed\n",
        "tf.random.set_seed(33)\n",
        "\n",
        "# Preprocess data (get all of the training values between 0 and 1, also called scaling/ normalization)\n",
        "train_datagen = ImageDataGenerator(rescale=1./255.0)\n",
        "valid_datagen = ImageDataGenerator(rescale=1./255.0)\n",
        "\n",
        "# Setup the train and test directories\n",
        "train_dir = \"drive/MyDrive/01_Humans_or_Not/Train/\"\n",
        "test_dir = \"drive/MyDrive/01_Humans_or_Not/Test/\"\n",
        "\n",
        "# Import data from directories and turn it into batches\n",
        "train_data = train_datagen.flow_from_directory(train_dir,\n",
        "                                               batch_size=32, # number of images to process at a time\n",
        "                                               target_size=(224, 224), # convert all images to be 224 x 224\n",
        "                                               class_mode=\"binary\", # type of problem we're working on\n",
        "                                               seed=33)\n",
        "\n",
        "valid_data = valid_datagen.flow_from_directory(test_dir,\n",
        "                                               batch_size=32,\n",
        "                                               target_size=(224, 224),\n",
        "                                               class_mode=\"binary\",\n",
        "                                               seed=33)\n",
        "\n",
        "# Create a CNN model\n",
        "model_1 = tf.keras.models.Sequential([\n",
        "    tf.keras.layers.Conv2D(filters=10,\n",
        "                           kernel_size=3,\n",
        "                           activation=\"relu\",\n",
        "                           input_shape=(224, 224, 3)), # first layer specifies input shape(height, width, colour channel)\n",
        "    tf.keras.layers.Conv2D(10, 3, activation=\"relu\"),\n",
        "    tf.keras.layers.MaxPooling2D(pool_size=2,\n",
        "                                 padding=\"valid\"),\n",
        "    tf.keras.layers.Conv2D(10, 3, activation=\"relu\"),\n",
        "    tf.keras.layers.Conv2D(10, 3, activation=\"relu\"),\n",
        "    tf.keras.layers.MaxPool2D(2),\n",
        "    tf.keras.layers.Flatten(),\n",
        "    tf.keras.layers.Dense(1, activation=\"sigmoid\") # binary activation output\n",
        "])\n",
        "\n",
        "# Compile the model\n",
        "model_1.compile(loss=\"binary_crossentropy\",\n",
        "                optimizer=tf.keras.optimizers.Adam(),\n",
        "                metrics=[\"accuracy\"])\n",
        "\n",
        "# Fit the model\n",
        "history_1 = model_1.fit(train_data,\n",
        "                        epochs=5,\n",
        "                        steps_per_epoch=len(train_data),\n",
        "                        validation_data=valid_data,\n",
        "                        validation_steps=len(valid_data))"
      ],
      "metadata": {
        "colab": {
          "base_uri": "https://localhost:8080/"
        },
        "id": "DE9IFRWZwi55",
        "outputId": "bbc3277b-aa12-471c-cae0-33b05f931b2f"
      },
      "execution_count": 38,
      "outputs": [
        {
          "output_type": "stream",
          "name": "stdout",
          "text": [
            "Found 1018 images belonging to 2 classes.\n",
            "Found 72 images belonging to 2 classes.\n",
            "Epoch 1/5\n",
            "32/32 [==============================] - 9s 150ms/step - loss: 0.6525 - accuracy: 0.5963 - val_loss: 0.6642 - val_accuracy: 0.5417\n",
            "Epoch 2/5\n",
            "32/32 [==============================] - 5s 143ms/step - loss: 0.5603 - accuracy: 0.7240 - val_loss: 0.6951 - val_accuracy: 0.6250\n",
            "Epoch 3/5\n",
            "32/32 [==============================] - 5s 163ms/step - loss: 0.4976 - accuracy: 0.7515 - val_loss: 0.6299 - val_accuracy: 0.7083\n",
            "Epoch 4/5\n",
            "32/32 [==============================] - 4s 136ms/step - loss: 0.3774 - accuracy: 0.8360 - val_loss: 0.6897 - val_accuracy: 0.6528\n",
            "Epoch 5/5\n",
            "32/32 [==============================] - 4s 135ms/step - loss: 0.2719 - accuracy: 0.8851 - val_loss: 0.9475 - val_accuracy: 0.6111\n"
          ]
        }
      ]
    },
    {
      "cell_type": "code",
      "source": [
        "# Check out the layers in our model\n",
        "model_1.summary()"
      ],
      "metadata": {
        "colab": {
          "base_uri": "https://localhost:8080/"
        },
        "id": "ZopcHnRB1An1",
        "outputId": "3ad04a34-e596-4784-ae4f-23ec484b8800"
      },
      "execution_count": 39,
      "outputs": [
        {
          "output_type": "stream",
          "name": "stdout",
          "text": [
            "Model: \"sequential_2\"\n",
            "_________________________________________________________________\n",
            " Layer (type)                Output Shape              Param #   \n",
            "=================================================================\n",
            " conv2d_8 (Conv2D)           (None, 222, 222, 10)      280       \n",
            "                                                                 \n",
            " conv2d_9 (Conv2D)           (None, 220, 220, 10)      910       \n",
            "                                                                 \n",
            " max_pooling2d_4 (MaxPooling  (None, 110, 110, 10)     0         \n",
            " 2D)                                                             \n",
            "                                                                 \n",
            " conv2d_10 (Conv2D)          (None, 108, 108, 10)      910       \n",
            "                                                                 \n",
            " conv2d_11 (Conv2D)          (None, 106, 106, 10)      910       \n",
            "                                                                 \n",
            " max_pooling2d_5 (MaxPooling  (None, 53, 53, 10)       0         \n",
            " 2D)                                                             \n",
            "                                                                 \n",
            " flatten_2 (Flatten)         (None, 28090)             0         \n",
            "                                                                 \n",
            " dense_2 (Dense)             (None, 1)                 28091     \n",
            "                                                                 \n",
            "=================================================================\n",
            "Total params: 31,101\n",
            "Trainable params: 31,101\n",
            "Non-trainable params: 0\n",
            "_________________________________________________________________\n"
          ]
        }
      ]
    },
    {
      "cell_type": "code",
      "source": [],
      "metadata": {
        "id": "YFygTN2E42w_"
      },
      "execution_count": 39,
      "outputs": []
    }
  ]
}