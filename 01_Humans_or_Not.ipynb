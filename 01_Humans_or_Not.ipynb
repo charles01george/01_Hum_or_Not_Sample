{
  "nbformat": 4,
  "nbformat_minor": 0,
  "metadata": {
    "colab": {
      "provenance": [],
      "mount_file_id": "1k0D9rq31gHpxV34ktlYanl2A3subfcTa",
      "authorship_tag": "ABX9TyN7QAfxY7ihyPXrVlPDYBRA",
      "include_colab_link": true
    },
    "kernelspec": {
      "name": "python3",
      "display_name": "Python 3"
    },
    "language_info": {
      "name": "python"
    },
    "gpuClass": "standard"
  },
  "cells": [
    {
      "cell_type": "markdown",
      "metadata": {
        "id": "view-in-github",
        "colab_type": "text"
      },
      "source": [
        "<a href=\"https://colab.research.google.com/github/charles01george/01_Humans_or_Not/blob/main/01_Humans_or_Not.ipynb\" target=\"_parent\"><img src=\"https://colab.research.google.com/assets/colab-badge.svg\" alt=\"Open In Colab\"/></a>"
      ]
    },
    {
      "cell_type": "markdown",
      "source": [
        "# Humans or not Humans"
      ],
      "metadata": {
        "id": "juAIe5_IPEGj"
      }
    },
    {
      "cell_type": "markdown",
      "source": [
        "This project is for differentiate humans and not-humans from a set of different photos which were taken from mainly phones. The data contains some beautiful pictures (taken by myself 😀) of my family members and friends."
      ],
      "metadata": {
        "id": "ZigXjes7GaDR"
      }
    },
    {
      "cell_type": "markdown",
      "source": [
        "## Get the data"
      ],
      "metadata": {
        "id": "LUb4Fj-OF6iV"
      }
    },
    {
      "cell_type": "code",
      "source": [
        "import os\n",
        "import tensorflow as tf"
      ],
      "metadata": {
        "id": "MgP-8AEeF_uq"
      },
      "execution_count": 1,
      "outputs": []
    },
    {
      "cell_type": "code",
      "source": [
        "data = \"/content/drive/MyDrive/01_Humans_or_Not\""
      ],
      "metadata": {
        "id": "abBcD1MGux2j"
      },
      "execution_count": 2,
      "outputs": []
    },
    {
      "cell_type": "code",
      "source": [
        "os.listdir(data)"
      ],
      "metadata": {
        "colab": {
          "base_uri": "https://localhost:8080/"
        },
        "id": "IperWtkYDFVQ",
        "outputId": "58194def-5962-4758-bc94-9285bee4756a"
      },
      "execution_count": 3,
      "outputs": [
        {
          "output_type": "execute_result",
          "data": {
            "text/plain": [
              "['Test', 'Train']"
            ]
          },
          "metadata": {},
          "execution_count": 3
        }
      ]
    },
    {
      "cell_type": "code",
      "source": [
        "os.listdir(os.path.join(data, \"Train\"))"
      ],
      "metadata": {
        "colab": {
          "base_uri": "https://localhost:8080/"
        },
        "id": "ia-rm-wRwJs9",
        "outputId": "e4127974-7104-4eab-956f-31ebbec13f24"
      },
      "execution_count": 4,
      "outputs": [
        {
          "output_type": "execute_result",
          "data": {
            "text/plain": [
              "['humans', 'not_humans']"
            ]
          },
          "metadata": {},
          "execution_count": 4
        }
      ]
    },
    {
      "cell_type": "markdown",
      "source": [
        "### Inspect the data"
      ],
      "metadata": {
        "id": "eNM5-Dbz9cXV"
      }
    },
    {
      "cell_type": "code",
      "source": [
        "os.listdir(os.path.join(data, \"Train\", \"humans\"))[:5]"
      ],
      "metadata": {
        "id": "2e9AGMG2xDn0",
        "colab": {
          "base_uri": "https://localhost:8080/"
        },
        "outputId": "d529d286-e043-4ea8-a256-21162c42bd22"
      },
      "execution_count": 5,
      "outputs": [
        {
          "output_type": "execute_result",
          "data": {
            "text/plain": [
              "['0B699446-ECAE-4A34-96E6-51DE3ECDA3EC Small.jpeg',\n",
              " '0A40694B-BB3D-4D5C-8BC6-9B0DBD90C58C Small.jpeg',\n",
              " '0A8F2502-6427-4730-9960-4BC7EB3B1D90 Small.jpeg',\n",
              " '0a754ad1-4640-4de5-8bbd-5f81dbbf904a Small.jpeg',\n",
              " '1D50442A-0CC3-41D0-9B97-388A14E81374 Small.jpeg']"
            ]
          },
          "metadata": {},
          "execution_count": 5
        }
      ]
    },
    {
      "cell_type": "code",
      "source": [
        "os.listdir(os.path.join(data, \"Train\", \"not_humans\"))[:5]"
      ],
      "metadata": {
        "colab": {
          "base_uri": "https://localhost:8080/"
        },
        "id": "wumEO0Gt4cin",
        "outputId": "7c5540fd-2a47-42d8-99b9-111d8bf9a6bf"
      },
      "execution_count": 6,
      "outputs": [
        {
          "output_type": "execute_result",
          "data": {
            "text/plain": [
              "['3CC26C46-9F19-425A-B386-56B742745A66 Small.jpeg',\n",
              " '1C247B1C-254C-4BE7-BB6F-843A2C39DB7C Small.jpeg',\n",
              " '3C72CC29-04D9-4E9D-87C7-4F873E8CE0A6 Small.jpeg',\n",
              " '3D0529AD-D8A9-496B-836B-94B52BD89E85 Small.jpeg',\n",
              " '0A97A324-04BD-4368-8F97-F1679CDD425E Small.jpeg']"
            ]
          },
          "metadata": {},
          "execution_count": 6
        }
      ]
    },
    {
      "cell_type": "code",
      "source": [
        "len(os.listdir(\"drive/MyDrive/01_Humans_or_Not/Train/humans\"))"
      ],
      "metadata": {
        "colab": {
          "base_uri": "https://localhost:8080/"
        },
        "id": "oBr75amC4_w0",
        "outputId": "dcf07e7d-302d-4da8-e5ec-2a9f8c4e7a3c"
      },
      "execution_count": 7,
      "outputs": [
        {
          "output_type": "execute_result",
          "data": {
            "text/plain": [
              "507"
            ]
          },
          "metadata": {},
          "execution_count": 7
        }
      ]
    },
    {
      "cell_type": "code",
      "source": [
        "# How many images are in our dataset\n",
        "data = tf.keras.utils.image_dataset_from_directory(\"drive/MyDrive/01_Humans_or_Not\")"
      ],
      "metadata": {
        "colab": {
          "base_uri": "https://localhost:8080/"
        },
        "id": "OdV7ifo36NAr",
        "outputId": "282ab04e-b33d-4bce-d84d-b349431f6734"
      },
      "execution_count": 8,
      "outputs": [
        {
          "output_type": "stream",
          "name": "stdout",
          "text": [
            "Found 1090 files belonging to 2 classes.\n"
          ]
        }
      ]
    },
    {
      "cell_type": "code",
      "source": [
        "# Number of training images\n",
        "tf.keras.utils.image_dataset_from_directory(\"drive/MyDrive/01_Humans_or_Not/Train/\")"
      ],
      "metadata": {
        "colab": {
          "base_uri": "https://localhost:8080/"
        },
        "id": "dnF7928U7HXX",
        "outputId": "2dd9370e-93b0-4956-adef-1bb0d2144135"
      },
      "execution_count": 9,
      "outputs": [
        {
          "output_type": "stream",
          "name": "stdout",
          "text": [
            "Found 1018 files belonging to 2 classes.\n"
          ]
        },
        {
          "output_type": "execute_result",
          "data": {
            "text/plain": [
              "<BatchDataset element_spec=(TensorSpec(shape=(None, 256, 256, 3), dtype=tf.float32, name=None), TensorSpec(shape=(None,), dtype=tf.int32, name=None))>"
            ]
          },
          "metadata": {},
          "execution_count": 9
        }
      ]
    },
    {
      "cell_type": "code",
      "source": [
        "# How many human images in our training set\n",
        "num_human_images_train = len(os.listdir(\"drive/MyDrive/01_Humans_or_Not/Train/humans\"))\n",
        "num_human_images_train"
      ],
      "metadata": {
        "colab": {
          "base_uri": "https://localhost:8080/"
        },
        "id": "uqLTsIIc7zHJ",
        "outputId": "ab754cbc-47bd-428a-ea47-8b829e20d965"
      },
      "execution_count": 10,
      "outputs": [
        {
          "output_type": "execute_result",
          "data": {
            "text/plain": [
              "507"
            ]
          },
          "metadata": {},
          "execution_count": 10
        }
      ]
    },
    {
      "cell_type": "code",
      "source": [
        "# How many not-human images in our training set\n",
        "num_not_human_images_train = len(os.listdir(\"drive/MyDrive/01_Humans_or_Not/Train/not_humans\"))\n",
        "num_not_human_images_train"
      ],
      "metadata": {
        "colab": {
          "base_uri": "https://localhost:8080/"
        },
        "id": "WSMfrPQa8V5s",
        "outputId": "2b536e28-bf21-46ff-8092-31b2571a271a"
      },
      "execution_count": 11,
      "outputs": [
        {
          "output_type": "execute_result",
          "data": {
            "text/plain": [
              "511"
            ]
          },
          "metadata": {},
          "execution_count": 11
        }
      ]
    },
    {
      "cell_type": "code",
      "source": [
        "data = \"/content/drive/MyDrive/01_Humans_or_Not/Train\"\n",
        "data"
      ],
      "metadata": {
        "colab": {
          "base_uri": "https://localhost:8080/",
          "height": 35
        },
        "id": "OAF8aYL59BoT",
        "outputId": "296fb748-39ac-4ced-9e1a-48f81bb7c544"
      },
      "execution_count": 12,
      "outputs": [
        {
          "output_type": "execute_result",
          "data": {
            "text/plain": [
              "'/content/drive/MyDrive/01_Humans_or_Not/Train'"
            ],
            "application/vnd.google.colaboratory.intrinsic+json": {
              "type": "string"
            }
          },
          "metadata": {},
          "execution_count": 12
        }
      ]
    },
    {
      "cell_type": "code",
      "source": [
        "# View a random image\n",
        "import matplotlib.pyplot as plt\n",
        "import matplotlib.image as mpimg\n",
        "import random\n",
        "\n",
        "def view_random_image(target_dir, target_class):\n",
        "  # Setup target directory (we'll view images from here)\n",
        "  target_folder = target_dir+target_class\n",
        "\n",
        "  # Get a random image path\n",
        "  random_image = random.sample(os.listdir(target_folder), 1)\n",
        "  # Read in the image and plot it using matplotlib\n",
        "  img = mpimg.imread(target_folder + \"/\" + random_image[0])\n",
        "  plt.imshow(img)\n",
        "  plt.title(target_class)\n",
        "  plt.axis(\"off\");\n",
        "\n",
        "  print(f\"Image shape: {img.shape}\") # show the shape\n",
        "\n",
        "  return img"
      ],
      "metadata": {
        "id": "nP_-aJiG86i2"
      },
      "execution_count": 26,
      "outputs": []
    },
    {
      "cell_type": "code",
      "source": [
        "img = view_random_image(target_dir=\"drive/MyDrive/01_Humans_or_Not/Train/\",\n",
        "                  target_class=\"humans\")"
      ],
      "metadata": {
        "colab": {
          "base_uri": "https://localhost:8080/",
          "height": 281
        },
        "id": "m7CP0WY29DHO",
        "outputId": "846d61be-1be8-4ead-9cd9-93ca516b16ab"
      },
      "execution_count": 29,
      "outputs": [
        {
          "output_type": "stream",
          "name": "stdout",
          "text": [
            "Image shape: (320, 240, 3)\n"
          ]
        },
        {
          "output_type": "display_data",
          "data": {
            "text/plain": [
              "<Figure size 432x288 with 1 Axes>"
            ],
            "image/png": "[encoded data removed]"
          },
          "metadata": {
            "needs_background": "light"
          }
        }
      ]
    },
    {
      "cell_type": "code",
      "source": [
        "# View the image (array/tensor)\n",
        "img"
      ],
      "metadata": {
        "id": "1U6P_ugR9_Zn",
        "colab": {
          "base_uri": "https://localhost:8080/"
        },
        "outputId": "3eec548f-bfd4-44b0-baf9-6399083585b0"
      },
      "execution_count": 30,
      "outputs": [
        {
          "output_type": "execute_result",
          "data": {
            "text/plain": [
              "array([[[104, 101,  68],\n",
              "        [179, 176, 157],\n",
              "        [205, 204, 202],\n",
              "        ...,\n",
              "        [ 42,  59, 128],\n",
              "        [ 45,  56, 110],\n",
              "        [ 49,  56, 100]],\n",
              "\n",
              "       [[ 90,  86,  49],\n",
              "        [ 80,  75,  55],\n",
              "        [106, 102,  99],\n",
              "        ...,\n",
              "        [ 32,  57, 114],\n",
              "        [ 36,  57, 112],\n",
              "        [ 32,  54, 103]],\n",
              "\n",
              "       [[115, 110,  72],\n",
              "        [107, 101,  77],\n",
              "        [ 90,  86,  77],\n",
              "        ...,\n",
              "        [ 27,  56,  98],\n",
              "        [ 21,  53,  94],\n",
              "        [ 10,  43,  84]],\n",
              "\n",
              "       ...,\n",
              "\n",
              "       [[176, 160, 124],\n",
              "        [175, 159, 123],\n",
              "        [173, 157, 121],\n",
              "        ...,\n",
              "        [128, 125, 134],\n",
              "        [128, 125, 134],\n",
              "        [127, 124, 133]],\n",
              "\n",
              "       [[174, 158, 122],\n",
              "        [174, 158, 122],\n",
              "        [173, 157, 121],\n",
              "        ...,\n",
              "        [128, 125, 134],\n",
              "        [131, 128, 137],\n",
              "        [131, 128, 137]],\n",
              "\n",
              "       [[173, 157, 121],\n",
              "        [174, 158, 122],\n",
              "        [174, 158, 122],\n",
              "        ...,\n",
              "        [129, 126, 135],\n",
              "        [127, 124, 133],\n",
              "        [124, 121, 130]]], dtype=uint8)"
            ]
          },
          "metadata": {},
          "execution_count": 30
        }
      ]
    },
    {
      "cell_type": "code",
      "source": [
        "# Image shape\n",
        "img.shape "
      ],
      "metadata": {
        "colab": {
          "base_uri": "https://localhost:8080/"
        },
        "id": "xSC-TgIkVzoA",
        "outputId": "92bb8d25-41a1-4e42-91af-b54b27bd9adf"
      },
      "execution_count": 31,
      "outputs": [
        {
          "output_type": "execute_result",
          "data": {
            "text/plain": [
              "(320, 240, 3)"
            ]
          },
          "metadata": {},
          "execution_count": 31
        }
      ]
    },
    {
      "cell_type": "markdown",
      "source": [
        "The values in the `img` array are between 0 and 255, however neural networks prefer the values between 0 and 1. One of the most common preprocessign steps for working with images is to `Scale` (normalize) their pixel values by dividing the image arrays by 255"
      ],
      "metadata": {
        "id": "kDrM40mdWNQa"
      }
    },
    {
      "cell_type": "code",
      "source": [
        "# Get all the pixel values between 0 & 1\n",
        "img/255.0"
      ],
      "metadata": {
        "colab": {
          "base_uri": "https://localhost:8080/"
        },
        "id": "UaSo3dRCaEs_",
        "outputId": "8f102842-d563-46cd-e8e6-e8bef25dd251"
      },
      "execution_count": 32,
      "outputs": [
        {
          "output_type": "execute_result",
          "data": {
            "text/plain": [
              "array([[[0.40784314, 0.39607843, 0.26666667],\n",
              "        [0.70196078, 0.69019608, 0.61568627],\n",
              "        [0.80392157, 0.8       , 0.79215686],\n",
              "        ...,\n",
              "        [0.16470588, 0.23137255, 0.50196078],\n",
              "        [0.17647059, 0.21960784, 0.43137255],\n",
              "        [0.19215686, 0.21960784, 0.39215686]],\n",
              "\n",
              "       [[0.35294118, 0.3372549 , 0.19215686],\n",
              "        [0.31372549, 0.29411765, 0.21568627],\n",
              "        [0.41568627, 0.4       , 0.38823529],\n",
              "        ...,\n",
              "        [0.1254902 , 0.22352941, 0.44705882],\n",
              "        [0.14117647, 0.22352941, 0.43921569],\n",
              "        [0.1254902 , 0.21176471, 0.40392157]],\n",
              "\n",
              "       [[0.45098039, 0.43137255, 0.28235294],\n",
              "        [0.41960784, 0.39607843, 0.30196078],\n",
              "        [0.35294118, 0.3372549 , 0.30196078],\n",
              "        ...,\n",
              "        [0.10588235, 0.21960784, 0.38431373],\n",
              "        [0.08235294, 0.20784314, 0.36862745],\n",
              "        [0.03921569, 0.16862745, 0.32941176]],\n",
              "\n",
              "       ...,\n",
              "\n",
              "       [[0.69019608, 0.62745098, 0.48627451],\n",
              "        [0.68627451, 0.62352941, 0.48235294],\n",
              "        [0.67843137, 0.61568627, 0.4745098 ],\n",
              "        ...,\n",
              "        [0.50196078, 0.49019608, 0.5254902 ],\n",
              "        [0.50196078, 0.49019608, 0.5254902 ],\n",
              "        [0.49803922, 0.48627451, 0.52156863]],\n",
              "\n",
              "       [[0.68235294, 0.61960784, 0.47843137],\n",
              "        [0.68235294, 0.61960784, 0.47843137],\n",
              "        [0.67843137, 0.61568627, 0.4745098 ],\n",
              "        ...,\n",
              "        [0.50196078, 0.49019608, 0.5254902 ],\n",
              "        [0.51372549, 0.50196078, 0.5372549 ],\n",
              "        [0.51372549, 0.50196078, 0.5372549 ]],\n",
              "\n",
              "       [[0.67843137, 0.61568627, 0.4745098 ],\n",
              "        [0.68235294, 0.61960784, 0.47843137],\n",
              "        [0.68235294, 0.61960784, 0.47843137],\n",
              "        ...,\n",
              "        [0.50588235, 0.49411765, 0.52941176],\n",
              "        [0.49803922, 0.48627451, 0.52156863],\n",
              "        [0.48627451, 0.4745098 , 0.50980392]]])"
            ]
          },
          "metadata": {},
          "execution_count": 32
        }
      ]
    },
    {
      "cell_type": "code",
      "source": [],
      "metadata": {
        "id": "jabMAq_kaSgp"
      },
      "execution_count": null,
      "outputs": []
    }
  ]
}